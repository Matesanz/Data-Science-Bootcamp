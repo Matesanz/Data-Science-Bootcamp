{
 "cells": [
  {
   "cell_type": "markdown",
   "metadata": {},
   "source": [
    "# Intro to Numpy"
   ]
  },
  {
   "cell_type": "code",
   "execution_count": 1,
   "metadata": {},
   "outputs": [],
   "source": [
    "import numpy as np"
   ]
  },
  {
   "cell_type": "markdown",
   "metadata": {},
   "source": [
    "## Creating Arrays"
   ]
  },
  {
   "cell_type": "code",
   "execution_count": 2,
   "metadata": {},
   "outputs": [
    {
     "data": {
      "text/plain": [
       "array([1, 2, 3, 4, 5, 6])"
      ]
     },
     "execution_count": 2,
     "metadata": {},
     "output_type": "execute_result"
    }
   ],
   "source": [
    "# Create an array from a list\n",
    "\n",
    "my_list = [1, 2, 3, 4, 5, 6]\n",
    "my_array = np.array(my_list)\n",
    "my_array"
   ]
  },
  {
   "cell_type": "code",
   "execution_count": 4,
   "metadata": {},
   "outputs": [
    {
     "name": "stdout",
     "output_type": "stream",
     "text": [
      "(6,)\n"
     ]
    }
   ],
   "source": [
    "# arrays have a shape: the number of elements along each axis\n",
    "print(my_array.shape)"
   ]
  },
  {
   "cell_type": "code",
   "execution_count": 3,
   "metadata": {},
   "outputs": [
    {
     "name": "stdout",
     "output_type": "stream",
     "text": [
      "int64\n"
     ]
    }
   ],
   "source": [
    "# arrays have a dtype: the type of the elements in the array\n",
    "print(my_array.dtype)"
   ]
  },
  {
   "cell_type": "code",
   "execution_count": 6,
   "metadata": {},
   "outputs": [
    {
     "name": "stdout",
     "output_type": "stream",
     "text": [
      "Array of zeros:\n",
      " [[0. 0. 0.]\n",
      " [0. 0. 0.]]\n",
      "Array of ones:\n",
      " [[1. 1. 1.]\n",
      " [1. 1. 1.]\n",
      " [1. 1. 1.]]\n",
      "Array of sevens:\n",
      " [[7 7]\n",
      " [7 7]]\n",
      "Array of range:\n",
      " [0 2 4 6 8]\n",
      "Array of linspace:\n",
      " [0.   0.25 0.5  0.75 1.  ]\n",
      "Array of random numbers:\n",
      " [[0.97976828 0.38920137 0.08334305]\n",
      " [0.70432221 0.60044367 0.83101143]]\n"
     ]
    }
   ],
   "source": [
    "# create arrays with zeros, ones, random numbers, etc.\n",
    "zeros_array = np.zeros((2, 3))    # 2x3 array of zeros\n",
    "ones_array = np.ones((3, 3))      # 3x3 array of ones\n",
    "full_array = np.full((2, 2), 7)    # 2x2 array filled with 7\n",
    "range_array = np.arange(0, 10, 2)  # array with values from 0 to 8 with a step of 2\n",
    "linspace_array = np.linspace(0, 1, 5)  # array with 5 evenly spaced values between 0 and 1\n",
    "random_array = np.random.rand(2, 3)  # 2x3 array with random values between 0 and 1\n",
    "\n",
    "\n",
    "print(\"Array of zeros:\\n\", zeros_array)\n",
    "print(\"Array of ones:\\n\", ones_array)\n",
    "print(\"Array of sevens:\\n\", full_array)\n",
    "print(\"Array of range:\\n\", range_array)\n",
    "print(\"Array of linspace:\\n\", linspace_array)\n",
    "print(\"Array of random numbers:\\n\", random_array)"
   ]
  },
  {
   "cell_type": "markdown",
   "metadata": {},
   "source": [
    "## Common Operations"
   ]
  },
  {
   "cell_type": "code",
   "execution_count": 7,
   "metadata": {},
   "outputs": [
    {
     "name": "stdout",
     "output_type": "stream",
     "text": [
      "Add two arrays:\n",
      " [ 7  9 11 13 15]\n",
      "Subtract two arrays:\n",
      " [5 5 5 5 5]\n",
      "Multiply two arrays:\n",
      " [ 6 14 24 36 50]\n",
      "Divide two arrays:\n",
      " [6.         3.5        2.66666667 2.25       2.        ]\n",
      "Exponentiate two arrays:\n",
      " [      1     128    6561  262144 9765625]\n",
      "Square root of an array:\n",
      " [1.         1.41421356 1.73205081 2.         2.23606798]\n",
      "Log of an array:\n",
      " [1.79175947 1.94591015 2.07944154 2.19722458 2.30258509]\n",
      "Sin of an array:\n",
      " [ 0.84147098  0.90929743  0.14112001 -0.7568025  -0.95892427]\n"
     ]
    }
   ],
   "source": [
    "# perform operations on arrays\n",
    "\n",
    "# Create a 1D array\n",
    "arr1 = np.array([1, 2, 3, 4, 5])\n",
    "arr2 = np.array([6, 7, 8, 9, 10])\n",
    "\n",
    "# Add two arrays\n",
    "arr3 = arr1 + arr2\n",
    "print(\"Add two arrays:\\n\", arr3)\n",
    "\n",
    "# Subtract two arrays\n",
    "arr4 = arr2 - arr1\n",
    "print(\"Subtract two arrays:\\n\", arr4)\n",
    "\n",
    "# Multiply two arrays\n",
    "arr5 = arr1 * arr2\n",
    "print(\"Multiply two arrays:\\n\", arr5)\n",
    "\n",
    "# Divide two arrays\n",
    "arr6 = arr2 / arr1\n",
    "print(\"Divide two arrays:\\n\", arr6)\n",
    "\n",
    "# Exponentiate two arrays\n",
    "arr7 = arr1 ** arr2\n",
    "print(\"Exponentiate two arrays:\\n\", arr7)\n",
    "\n",
    "# Take the square root of an array\n",
    "arr8 = np.sqrt(arr1)\n",
    "print(\"Square root of an array:\\n\", arr8)\n",
    "\n",
    "# Take the log of an array\n",
    "arr9 = np.log(arr2)\n",
    "print(\"Log of an array:\\n\", arr9)\n",
    "\n",
    "# Take the sin of an array\n",
    "arr10 = np.sin(arr1)\n",
    "print(\"Sin of an array:\\n\", arr10)\n"
   ]
  },
  {
   "cell_type": "markdown",
   "metadata": {},
   "source": [
    "## Array Slicing"
   ]
  },
  {
   "cell_type": "code",
   "execution_count": 8,
   "metadata": {},
   "outputs": [
    {
     "name": "stdout",
     "output_type": "stream",
     "text": [
      "1D Array: [1 2 3 4 5]\n",
      "Sliced Array: [2 3 4]\n",
      "2D Array:\n",
      " [[1 2 3]\n",
      " [4 5 6]\n",
      " [7 8 9]]\n",
      "First row:\n",
      " [1 2 3]\n",
      "First column:\n",
      " [1 4 7]\n",
      "Submatrix:\n",
      " [[2 3]\n",
      " [5 6]]\n"
     ]
    }
   ],
   "source": [
    "import numpy as np\n",
    "\n",
    "# Create a 1D array\n",
    "arr1 = np.array([1, 2, 3, 4, 5])\n",
    "print(\"1D Array:\", arr1)\n",
    "\n",
    "# Slice elements from 1st to 4th position\n",
    "print(\"Sliced Array:\", arr1[1:4])\n",
    "\n",
    "# Create a 2D array\n",
    "arr2 = np.array([[1, 2, 3], [4, 5, 6], [7, 8, 9]])\n",
    "print(\"2D Array:\\n\", arr2)\n",
    "\n",
    "# Slice a specific row\n",
    "print(\"First row:\\n\", arr2[0])\n",
    "\n",
    "# Slice a specific column\n",
    "print(\"First column:\\n\", arr2[:, 0])\n",
    "\n",
    "# Slice a submatrix\n",
    "print(\"Submatrix:\\n\", arr2[0:2, 1:3])"
   ]
  },
  {
   "cell_type": "markdown",
   "metadata": {},
   "source": [
    "## Array Masking"
   ]
  },
  {
   "cell_type": "code",
   "execution_count": 93,
   "metadata": {},
   "outputs": [
    {
     "data": {
      "text/plain": [
       "array([[ True,  True,  True,  True],\n",
       "       [ True,  True,  True, False],\n",
       "       [False, False, False, False],\n",
       "       [False, False, False, False]])"
      ]
     },
     "execution_count": 93,
     "metadata": {},
     "output_type": "execute_result"
    }
   ],
   "source": [
    "import numpy as np\n",
    "\n",
    "# Create an array\n",
    "arr = np.array([1, 2, 3, 4, 5, 6, 7, 8, 9, 10])\n",
    "\n",
    "# Create a mask\n",
    "mask = arr > 5\n",
    "print(\"Mask:\", mask)"
   ]
  },
  {
   "cell_type": "code",
   "execution_count": 94,
   "metadata": {},
   "outputs": [
    {
     "data": {
      "text/plain": [
       "array([1, 2, 3, 4, 5, 6, 7])"
      ]
     },
     "execution_count": 94,
     "metadata": {},
     "output_type": "execute_result"
    }
   ],
   "source": [
    "# Using the mask to index into the array\n",
    "filtered_arr = arr[mask]\n",
    "print(\"Filtered Array:\", filtered_arr)"
   ]
  },
  {
   "cell_type": "markdown",
   "metadata": {},
   "source": [
    "## Exercise: The Alien Invasion\n",
    "\n",
    "Original exercise can be found [here](https://matesanz.github.io/python-machine-learning-course/%F0%9F%A7%AA-Exercises/the-alien-invasion/)."
   ]
  },
  {
   "cell_type": "code",
   "execution_count": 99,
   "metadata": {},
   "outputs": [],
   "source": [
    "import numpy as np\n",
    "\n",
    "\n",
    "fleet_data = np.array([\n",
    "    [120, 40, 25, 2.5, 10],\n",
    "    [85, 60, 30, 5.0, 5],\n",
    "    [100, 50, 35, 4.5, 7],\n",
    "    [120, 40, 25, 2.5, 9],\n",
    "    [150, 50, 30, 3.0, 10],\n",
    "], dtype=np.float32)"
   ]
  },
  {
   "cell_type": "code",
   "execution_count": 108,
   "metadata": {},
   "outputs": [
    {
     "data": {
      "text/plain": [
       "5"
      ]
     },
     "execution_count": 108,
     "metadata": {},
     "output_type": "execute_result"
    }
   ],
   "source": [
    "# 1st exercise\n",
    "total_spaceship = fleet_data.shape[0]\n",
    "total_spaceship = len(fleet_data)\n",
    "total_spaceship"
   ]
  },
  {
   "cell_type": "code",
   "execution_count": 113,
   "metadata": {},
   "outputs": [
    {
     "data": {
      "text/plain": [
       "(158600.0, 158600.0)"
      ]
     },
     "execution_count": 113,
     "metadata": {},
     "output_type": "execute_result"
    }
   ],
   "source": [
    "# 2st exercise\n",
    "length_column = fleet_data[:, 0]  # get first column and all rows\n",
    "width_column = fleet_data[:, 1]  # get second column and all rows\n",
    "height_column = fleet_data[:, 2]  # get third column and all rows\n",
    "\n",
    "length_column, width_column, height_column\n",
    "\n",
    "spaceship_volume = length_column * width_column * height_column\n",
    "np.mean(spaceship_volume), spaceship_volume.mean()"
   ]
  },
  {
   "cell_type": "code",
   "execution_count": 114,
   "metadata": {},
   "outputs": [
    {
     "data": {
      "text/plain": [
       "(5.0, 2.5, 3.5)"
      ]
     },
     "execution_count": 114,
     "metadata": {},
     "output_type": "execute_result"
    }
   ],
   "source": [
    "# 3rd exercise\n",
    "speed_column = fleet_data[:, 3]\n",
    "np.max(speed_column), np.min(speed_column), np.mean(speed_column)"
   ]
  },
  {
   "cell_type": "code",
   "execution_count": 128,
   "metadata": {},
   "outputs": [
    {
     "data": {
      "text/plain": [
       "0"
      ]
     },
     "execution_count": 128,
     "metadata": {},
     "output_type": "execute_result"
    }
   ],
   "source": [
    "# 4th exercise\n",
    "MAX_POWER = 10\n",
    "\n",
    "\n",
    "weapon_power_column = fleet_data[:, 4]\n",
    "mask = weapon_power_column == MAX_POWER\n",
    "\n",
    "# both are correct\n",
    "np.count_nonzero(mask), len(weapon_power_column[mask])"
   ]
  },
  {
   "cell_type": "code",
   "execution_count": 124,
   "metadata": {},
   "outputs": [
    {
     "data": {
      "text/plain": [
       "(array([ True, False, False, False,  True]),\n",
       " array([2.5, 5. , 4.5, 2.5, 3. ], dtype=float32))"
      ]
     },
     "execution_count": 124,
     "metadata": {},
     "output_type": "execute_result"
    }
   ],
   "source": [
    "# 5th exercise\n",
    "mask, speed_column\n",
    "max_power_spaceships_speeds = speed_column[mask]\n",
    "max_power_spaceships_speeds.mean()"
   ]
  },
  {
   "cell_type": "markdown",
   "metadata": {},
   "source": [
    "## Bonus exercise: Create a TicTacToe game\n",
    "\n",
    "To try out your new skills, try to create a TicTacToe game using Numpy arrays. Fill the functions below to create a game that can be played by two players."
   ]
  },
  {
   "cell_type": "code",
   "execution_count": 9,
   "metadata": {},
   "outputs": [],
   "source": [
    "import numpy as np\n",
    "\n",
    "\n",
    "class TicTacToe:\n",
    "    def __init__(self) -> None:\n",
    "        \"\"\"\n",
    "        Initialize a 3x3 empty Tic Tac Toe board.\n",
    "        Player X starts the game.\n",
    "        \"\"\"\n",
    "        self.board = np.zeros((3, 3), dtype=np.int8)\n",
    "        self.current_player = 1  # 1 represents player X, -1 represents player O\n",
    "\n",
    "    def display_board(self) -> None:\n",
    "        \"\"\"\n",
    "        Display the current state of the Tic Tac Toe board.\n",
    "        \"\"\"\n",
    "        print(self.board)\n",
    "\n",
    "    def make_move(self, row: int, col: int) -> None:\n",
    "        \"\"\"\n",
    "        Make a move on the board at the specified row and column.\n",
    "        \n",
    "        Parameters:\n",
    "            row (int): The row index.\n",
    "            col (int): The column index.\n",
    "        \"\"\"\n",
    "        # Fill this function with logic to make a move\n",
    "        pass\n",
    "\n",
    "    def check_winner(self) -> int:\n",
    "        \"\"\"\n",
    "        Check for a winner on the Tic Tac Toe board.\n",
    "        \n",
    "        Returns:\n",
    "            int: 1 if player X wins, -1 if player O wins, 0 otherwise.\n",
    "        \"\"\"\n",
    "        # Fill this function with logic to check for a winner\n",
    "        pass\n",
    "\n",
    "    def check_row(self, row: np.ndarray) -> int:\n",
    "        \"\"\"\n",
    "        Check a row for a winner.\n",
    "        \n",
    "        Parameters:\n",
    "            row (np.ndarray): The row to check.\n",
    "            \n",
    "        Returns:\n",
    "            int: 1 if player X wins, -1 if player O wins, 0 otherwise.\n",
    "        \"\"\"\n",
    "        # Fill this function with logic to check a row for a winner\n",
    "        pass\n",
    "\n",
    "    def is_board_full(self) -> bool:\n",
    "        \"\"\"\n",
    "        Check if the Tic Tac Toe board is full.\n",
    "        \n",
    "        Returns:\n",
    "            bool: True if the board is full, False otherwise.\n",
    "        \"\"\"\n",
    "        return np.all(self.board != 0)\n"
   ]
  },
  {
   "cell_type": "code",
   "execution_count": null,
   "metadata": {},
   "outputs": [],
   "source": [
    "\n",
    "# Example usage:\n",
    "tic_tac_toe_game = TicTacToe()\n",
    "\n",
    "while True:\n",
    "    tic_tac_toe_game.display_board()\n",
    "\n",
    "    # Get user input for row and column\n",
    "    row = int(input(\"Enter row (0, 1, or 2): \"))\n",
    "    col = int(input(\"Enter column (0, 1, or 2): \"))\n",
    "\n",
    "    # Make a move\n",
    "    tic_tac_toe_game.make_move(row, col)\n",
    "\n",
    "    # Check for a winner\n",
    "    winner = tic_tac_toe_game.check_winner()\n",
    "    if winner:\n",
    "        tic_tac_toe_game.display_board()\n",
    "        print(f\"Player {winner} wins!\")\n",
    "        break\n",
    "\n",
    "    # Check for a tie\n",
    "    if tic_tac_toe_game.is_board_full():\n",
    "        tic_tac_toe_game.display_board()\n",
    "        print(\"It's a tie!\")\n",
    "        break\n",
    "\n",
    "    # Switch to the next player\n",
    "    tic_tac_toe_game.current_player *= -1  # transform 1 to -1 and -1 to 1"
   ]
  }
 ],
 "metadata": {
  "kernelspec": {
   "display_name": "myenv",
   "language": "python",
   "name": "python3"
  },
  "language_info": {
   "codemirror_mode": {
    "name": "ipython",
    "version": 3
   },
   "file_extension": ".py",
   "mimetype": "text/x-python",
   "name": "python",
   "nbconvert_exporter": "python",
   "pygments_lexer": "ipython3",
   "version": "3.11.5"
  }
 },
 "nbformat": 4,
 "nbformat_minor": 2
}
